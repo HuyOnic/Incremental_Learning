{
 "cells": [
  {
   "cell_type": "code",
   "execution_count": 1,
   "metadata": {},
   "outputs": [
    {
     "name": "stdout",
     "output_type": "stream",
     "text": [
      "visualize.ipynb\n"
     ]
    }
   ],
   "source": [
    "!ls"
   ]
  },
  {
   "cell_type": "code",
   "execution_count": 2,
   "metadata": {},
   "outputs": [
    {
     "name": "stdout",
     "output_type": "stream",
     "text": [
      "/home/huyonic/Documents/Incremental_Learning/srccode/visualization\n"
     ]
    }
   ],
   "source": [
    "!pwd"
   ]
  },
  {
   "cell_type": "code",
   "execution_count": 7,
   "metadata": {},
   "outputs": [
    {
     "data": {
      "text/plain": [
       "<function __main__.decorator.<locals>.new_function()>"
      ]
     },
     "execution_count": 7,
     "metadata": {},
     "output_type": "execute_result"
    }
   ],
   "source": [
    "def decorator(f):\n",
    "    def new_function():\n",
    "        print(\"Extra Functionally\")\n",
    "        f()\n",
    "    return new_function\n",
    "@decorator\n",
    "def initial_function():\n",
    "    print(\"Initial Functionality\")\n",
    "def f():   \n",
    "    print(\"This is decorator\")\n",
    "decorator(f)"
   ]
  },
  {
   "cell_type": "code",
   "execution_count": 19,
   "metadata": {},
   "outputs": [
    {
     "name": "stdout",
     "output_type": "stream",
     "text": [
      "Dog\n",
      "This dog is Dog and it's 12\n",
      "Cat\n",
      "This dog is Cat and it's 12\n",
      "This dog is Cat and it's 12\n"
     ]
    }
   ],
   "source": [
    "class Animals:\n",
    "    def __init__(self, name, age):\n",
    "        self.name = name\n",
    "        self.age = age\n",
    "    @property\n",
    "    def info(self): \n",
    "        return f\"This dog is {self.name} and it's {self.age}\"\n",
    "    @info.setter\n",
    "    def info(self, name, age):\n",
    "        self.name = name\n",
    "        self.age = age\n",
    "    def __str__(self):\n",
    "        return self.info\n",
    "    \n",
    "animal = Animals(\"Dog\",12)\n",
    "print(animal.name)\n",
    "print(animal.info)\n",
    "animal.name=\"Cat\"\n",
    "print(animal.name)\n",
    "print(animal.info)\n",
    "print(animal)\n",
    "# animal.info(\"Chicken\",20)\n",
    "# print(animal.name, \"---\", animal.age)"
   ]
  },
  {
   "cell_type": "code",
   "execution_count": 26,
   "metadata": {},
   "outputs": [
    {
     "data": {
      "text/plain": [
       "[1, 2, 3, [12, 12]]"
      ]
     },
     "execution_count": 26,
     "metadata": {},
     "output_type": "execute_result"
    }
   ],
   "source": [
    "import copy\n",
    "a = [1,2,3,[12,12]]\n",
    "b = copy.copy(a)\n",
    "b"
   ]
  },
  {
   "cell_type": "code",
   "execution_count": 28,
   "metadata": {},
   "outputs": [
    {
     "name": "stdout",
     "output_type": "stream",
     "text": [
      "131397882459456\n",
      "li2 id 131397883434624 Value:  [1, 2, 3, [3, 4], 0]\n",
      "li3 id 131397883429376 Value:  [1, 2, 3, [3, 4], 0]\n"
     ]
    }
   ],
   "source": [
    "import copy \n",
    "li1 = [1,2,3,[3,4],0]\n",
    "print(id(li1))\n",
    "li2 = copy.copy(li1)\n",
    "print(\"li2 id\", id(li2), \"Value: \",li2)\n",
    "li3 = copy.deepcopy(li1)\n",
    "print(\"li3 id\", id(li3), \"Value: \",li3)\n"
   ]
  },
  {
   "cell_type": "code",
   "execution_count": 31,
   "metadata": {},
   "outputs": [
    {
     "data": {
      "text/plain": [
       "[1, 2, 3, [3, 4], 0, 1, 1]"
      ]
     },
     "execution_count": 31,
     "metadata": {},
     "output_type": "execute_result"
    }
   ],
   "source": [
    "li2+=[1]\n"
   ]
  },
  {
   "cell_type": "code",
   "execution_count": null,
   "metadata": {},
   "outputs": [],
   "source": []
  }
 ],
 "metadata": {
  "kernelspec": {
   "display_name": "base",
   "language": "python",
   "name": "python3"
  },
  "language_info": {
   "codemirror_mode": {
    "name": "ipython",
    "version": 3
   },
   "file_extension": ".py",
   "mimetype": "text/x-python",
   "name": "python",
   "nbconvert_exporter": "python",
   "pygments_lexer": "ipython3",
   "version": "3.11.7"
  }
 },
 "nbformat": 4,
 "nbformat_minor": 2
}
